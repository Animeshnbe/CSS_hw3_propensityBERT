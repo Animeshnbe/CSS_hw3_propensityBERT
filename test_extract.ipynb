{
 "cells": [
  {
   "cell_type": "code",
   "execution_count": 6,
   "metadata": {},
   "outputs": [
    {
     "ename": "FileNotFoundError",
     "evalue": "[WinError 3] The system cannot find the path specified: 'reddit_all'",
     "output_type": "error",
     "traceback": [
      "\u001b[1;31m---------------------------------------------------------------------------\u001b[0m",
      "\u001b[1;31mFileNotFoundError\u001b[0m                         Traceback (most recent call last)",
      "Cell \u001b[1;32mIn[6], line 7\u001b[0m\n\u001b[0;32m      4\u001b[0m \u001b[39mfrom\u001b[39;00m \u001b[39mtqdm\u001b[39;00m \u001b[39mimport\u001b[39;00m tqdm\n\u001b[0;32m      6\u001b[0m file_paths \u001b[39m=\u001b[39m []\n\u001b[1;32m----> 7\u001b[0m \u001b[39mfor\u001b[39;00m f \u001b[39min\u001b[39;00m os\u001b[39m.\u001b[39;49mlistdir(\u001b[39m\"\u001b[39;49m\u001b[39mreddit_all\u001b[39;49m\u001b[39m\"\u001b[39;49m):\n\u001b[0;32m      8\u001b[0m     file_paths\u001b[39m.\u001b[39mappend(f)\n\u001b[0;32m     10\u001b[0m \u001b[39m# 10k\u001b[39;00m\n",
      "\u001b[1;31mFileNotFoundError\u001b[0m: [WinError 3] The system cannot find the path specified: 'reddit_all'"
     ]
    }
   ],
   "source": [
    "import os\n",
    "import json\n",
    "import multiprocessing\n",
    "from tqdm import tqdm\n",
    "\n",
    "file_paths = []\n",
    "for f in os.listdir(\"reddit_all\"):\n",
    "    file_paths.append(f)\n",
    "\n",
    "# 10k\n",
    "gaming = [\"girlgamers\", \"gaming\", \"csgo\", \"dota2\", \"leagueoflegends\",  \"minecraft\", \"eldenring\", \"truegaming\", \"overwatch\"]\n",
    "# ng = [\"mademesmile\", \"wholesomememes\", \"politicalhumor\", \"memes\", \"funny\", \"askreddit\", \"\", 'aww', 'worldnews', 'movies', 'pics']\n",
    "\n",
    "def append_to_json(gcom, gstr): \n",
    "    with open(gstr+\".json\", 'ab+') as f:\n",
    "        f.seek(0,2)                                #Go to the end of file    \n",
    "        if f.tell() == 0 :                         #Check if file is empty\n",
    "            f.write(json.dumps(gcom).encode())  #If empty, write an array\n",
    "        else :\n",
    "            f.seek(-1,2)           \n",
    "            f.truncate()                           #Remove the last character, open the array\n",
    "            f.write(' , '.encode())                #Write the separator\n",
    "            f.write(json.dumps(gcom)[1:].encode())\n",
    "\n",
    "def process(filename):\n",
    "    gcom = []\n",
    "    ngcom = []\n",
    "    _,_,y,d,_ = filename.split('_')\n",
    "    # print(filename,x, end=\"\\n\")\n",
    "    #  = x\n",
    "    if not os.path.exists(\"reddit_all/\"+y+\"_\"+d):\n",
    "        os.mkdir(\"reddit_all/\"+y+\"_\"+d)\n",
    "    with open(filename, 'r') as fp:\n",
    "        data = list(fp)\n",
    "        \n",
    "        os.chdir(\"reddit_all/\"+y+\"_\"+d)\n",
    "        # if f.startswith():\n",
    "        k=0\n",
    "        for comment in tqdm(data):\n",
    "            comment = json.loads(comment)\n",
    "            if comment['subreddit'] in gaming:\n",
    "                gcom.append(comment)\n",
    "                k+=1\n",
    "            else:\n",
    "                ngcom.append(comment)\n",
    "            if len(gcom)==10000:\n",
    "                append_to_json(gcom,\"gaming\") # Dump the dictionary\n",
    "                gcom = []\n",
    "            if len(ngcom)==10000:\n",
    "                append_to_json(ngcom,\"nongaming\")\n",
    "                ngcom = []\n",
    "    print(filename,\": \",k)\n",
    "\n",
    "process('reddit_all/RC_2011_01_0000.jsonl')\n",
    "# print('reddit_all/RC_2011_01_0000.jsonl')\n",
    "# num_processes = multiprocessing.cpu_count()\n",
    "# pool = multiprocessing.Pool(processes=4)\n",
    "\n",
    "# # map the process_file function to each file path in parallel\n",
    "# pool.map(process, file_paths)\n",
    "\n",
    "# # close the pool to release resources\n",
    "# pool.close()\n",
    "# pool.join()"
   ]
  },
  {
   "cell_type": "code",
   "execution_count": 5,
   "metadata": {},
   "outputs": [
    {
     "name": "stdout",
     "output_type": "stream",
     "text": [
      "This is a source string with a and another.\n"
     ]
    }
   ],
   "source": [
    "import re\n",
    "\n",
    "string_with_sources = \"This is a source string with a [source](http://example.com) and another [source](http://example.org).\"\n",
    "string_without_sources = re.sub(r\"\\s*\\[source\\]\\(http://[^\\)]*\\)\", \"\", string_with_sources)\n",
    "\n",
    "print(string_without_sources)"
   ]
  },
  {
   "cell_type": "code",
   "execution_count": 4,
   "metadata": {},
   "outputs": [],
   "source": [
    "print('reddit_all/RC_2011_01_0000.jsonl')"
   ]
  }
 ],
 "metadata": {
  "kernelspec": {
   "display_name": "Python 3",
   "language": "python",
   "name": "python3"
  },
  "language_info": {
   "codemirror_mode": {
    "name": "ipython",
    "version": 3
   },
   "file_extension": ".py",
   "mimetype": "text/x-python",
   "name": "python",
   "nbconvert_exporter": "python",
   "pygments_lexer": "ipython3",
   "version": "3.10.11"
  },
  "orig_nbformat": 4
 },
 "nbformat": 4,
 "nbformat_minor": 2
}
