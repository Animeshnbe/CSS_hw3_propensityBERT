{
 "cells": [
  {
   "cell_type": "markdown",
   "id": "088bcbd7",
   "metadata": {},
   "source": [
    "# What is Causal Inference?"
   ]
  },
  {
   "cell_type": "markdown",
   "id": "98c16d74",
   "metadata": {},
   "source": [
    "Causal Inference is the process where causes are **inferred** from data.\n",
    "\n",
    "Causal inference is the process of determining the independent, actual effect of a particular phenomenon that is a component of a larger system. Causal inference analyzes the ***response of an effect variable when a cause of the effect variable is changed***."
   ]
  },
  {
   "cell_type": "markdown",
   "id": "815a4031",
   "metadata": {},
   "source": [
    "<div>\n",
    "<img src=\"https://paulvanderlaken.files.wordpress.com/2019/10/causal-inference-book-cover-21.jpeg?w=1024&h=737&crop=1\" width=\"500\"/>\n",
    "</div>"
   ]
  },
  {
   "cell_type": "markdown",
   "id": "e3251c59",
   "metadata": {},
   "source": [
    "# Correlation does not imply Causation"
   ]
  },
  {
   "cell_type": "markdown",
   "id": "b36d8631",
   "metadata": {},
   "source": [
    "<div>\n",
    "<img src=\"https://imgs.xkcd.com/comics/correlation_2x.png\" width=\"500\"/>\n",
    "</div>"
   ]
  },
  {
   "cell_type": "markdown",
   "id": "549adca3",
   "metadata": {},
   "source": [
    "<div>\n",
    "<img src=\"https://www.freecodecamp.org/news/content/images/2019/09/Ridiculous-correlation.png\" width=\"800\"/>\n",
    "</div>"
   ]
  },
  {
   "cell_type": "markdown",
   "id": "7111f902",
   "metadata": {},
   "source": [
    "<div>\n",
    "<img src=\"https://www.statology.org/wp-content/uploads/2021/08/corrCause1.png\" width=\"500\"/>\n",
    "</div>"
   ]
  },
  {
   "cell_type": "markdown",
   "id": "b53debea",
   "metadata": {},
   "source": [
    "# Notations"
   ]
  },
  {
   "cell_type": "markdown",
   "id": "ad231e13",
   "metadata": {},
   "source": [
    "<div>\n",
    "<img src=\"https://encrypted-tbn0.gstatic.com/images?q=tbn:ANd9GcRXbbY0NvMAE4TGAkPk8Ou9a9u4U9DWzsK0E3MHlsNGyrEiIojX_QhdSbenkkmH-_I7BOk\" width=\"300\"/>\n",
    "</div>"
   ]
  },
  {
   "cell_type": "markdown",
   "id": "bf0d087c",
   "metadata": {},
   "source": [
    "+ **Treatment**: Intervention for which we want to know the effect\n",
    "\n",
    "$T_{i} = \\left\\{\\begin{matrix}\n",
    "1 \\; if \\; treatment \\; is \\; recived\\\\ \n",
    "0 \\; otherwise\n",
    "\\end{matrix}\\right.$\n"
   ]
  },
  {
   "cell_type": "markdown",
   "id": "aa5c39e5",
   "metadata": {},
   "source": [
    "+ **Control**: Opposite of treatment\n",
    "+ **Outcome**: Our variable of interest\n",
    "        Y(0) potential outcome without the treatment\n",
    "        Y(1) potential outcome with the treatment\n",
    "+ **Treatment effect**\n",
    "        Y(1) - Y(0) for an individual unit\n",
    "Average Treatment Effect = $\\frac{1}{N}\\sum Y(1) - Y(0)$  "
   ]
  },
  {
   "cell_type": "markdown",
   "id": "411af193",
   "metadata": {},
   "source": [
    "+ **Confounders**: A variable which affects both treatment and outcome\n",
    "\n",
    "<div>\n",
    "<img src=\"https://imgs.xkcd.com/comics/confounding_variables_2x.png\" width=\"700\"/>\n",
    "</div>"
   ]
  },
  {
   "cell_type": "markdown",
   "id": "5df7a8df",
   "metadata": {},
   "source": [
    "# Problem with causal infrence"
   ]
  },
  {
   "cell_type": "markdown",
   "id": "f46c978f",
   "metadata": {},
   "source": [
    "The fundamental problem of causal inference is that we can **never observe the same unit with and without treatment**."
   ]
  },
  {
   "cell_type": "markdown",
   "id": "4c0c9b8e",
   "metadata": {},
   "source": [
    "Analysis can be on two types of data:\n",
    "- Experimental data - Randomized control trials (RCT)\n",
    "- Observational data"
   ]
  },
  {
   "cell_type": "markdown",
   "id": "49d43bac",
   "metadata": {},
   "source": [
    "RCT can be expensive, operationally heavy, and sometimes unethical. We are going to focus on Observational data today."
   ]
  },
  {
   "cell_type": "markdown",
   "id": "11d4a1cb",
   "metadata": {},
   "source": [
    "Since we can not observe the same unit with and without treatment and some sort of confounder X makes it so that treated and untreated are not initially comparable, I can make them so by matching each treated unit with a similar untreated unit."
   ]
  },
  {
   "cell_type": "markdown",
   "id": "03147dfa",
   "metadata": {},
   "source": [
    "# Propensity Score Matching"
   ]
  },
  {
   "cell_type": "markdown",
   "id": "dcac8f52",
   "metadata": {},
   "source": [
    "Propensity score comes from the realisation that you don’t need to directly control for confounders X to achieve conditional independence $Y(0),Y(1) \\perp T\\mid X$. Instead, it is sufficient to control for a balancing score $E[T\\mid X]$. This balancing score is often the conditional probability of the treatment,$P(T\\mid X)$ also called the propensity score $P(x)$."
   ]
  },
  {
   "cell_type": "code",
   "execution_count": 1,
   "id": "a9768c74",
   "metadata": {},
   "outputs": [],
   "source": [
    "import pandas as pd\n",
    "import numpy as np\n",
    "from matplotlib import style\n",
    "from tqdm.notebook import tqdm\n",
    "from sklearn.linear_model import LogisticRegression\n",
    "import matplotlib.pyplot as plt\n",
    "import seaborn as sns\n",
    "%matplotlib inline"
   ]
  },
  {
   "cell_type": "code",
   "execution_count": 2,
   "id": "89b10b45",
   "metadata": {},
   "outputs": [
    {
     "data": {
      "text/html": [
       "<div>\n",
       "<style scoped>\n",
       "    .dataframe tbody tr th:only-of-type {\n",
       "        vertical-align: middle;\n",
       "    }\n",
       "\n",
       "    .dataframe tbody tr th {\n",
       "        vertical-align: top;\n",
       "    }\n",
       "\n",
       "    .dataframe thead th {\n",
       "        text-align: right;\n",
       "    }\n",
       "</style>\n",
       "<table border=\"1\" class=\"dataframe\">\n",
       "  <thead>\n",
       "    <tr style=\"text-align: right;\">\n",
       "      <th></th>\n",
       "      <th>schoolid</th>\n",
       "      <th>intervention</th>\n",
       "      <th>achievement_score</th>\n",
       "      <th>success_expect</th>\n",
       "      <th>ethnicity</th>\n",
       "      <th>gender</th>\n",
       "      <th>frst_in_family</th>\n",
       "      <th>school_urbanicity</th>\n",
       "      <th>school_mindset</th>\n",
       "      <th>school_achievement</th>\n",
       "      <th>school_ethnic_minority</th>\n",
       "      <th>school_poverty</th>\n",
       "      <th>school_size</th>\n",
       "    </tr>\n",
       "  </thead>\n",
       "  <tbody>\n",
       "    <tr>\n",
       "      <th>0</th>\n",
       "      <td>76</td>\n",
       "      <td>1</td>\n",
       "      <td>0.277359</td>\n",
       "      <td>6</td>\n",
       "      <td>4</td>\n",
       "      <td>2</td>\n",
       "      <td>1</td>\n",
       "      <td>4</td>\n",
       "      <td>0.334544</td>\n",
       "      <td>0.648586</td>\n",
       "      <td>-1.310927</td>\n",
       "      <td>0.224077</td>\n",
       "      <td>-0.426757</td>\n",
       "    </tr>\n",
       "    <tr>\n",
       "      <th>1</th>\n",
       "      <td>76</td>\n",
       "      <td>1</td>\n",
       "      <td>-0.449646</td>\n",
       "      <td>4</td>\n",
       "      <td>12</td>\n",
       "      <td>2</td>\n",
       "      <td>1</td>\n",
       "      <td>4</td>\n",
       "      <td>0.334544</td>\n",
       "      <td>0.648586</td>\n",
       "      <td>-1.310927</td>\n",
       "      <td>0.224077</td>\n",
       "      <td>-0.426757</td>\n",
       "    </tr>\n",
       "    <tr>\n",
       "      <th>2</th>\n",
       "      <td>76</td>\n",
       "      <td>1</td>\n",
       "      <td>0.769703</td>\n",
       "      <td>6</td>\n",
       "      <td>4</td>\n",
       "      <td>2</td>\n",
       "      <td>0</td>\n",
       "      <td>4</td>\n",
       "      <td>0.334544</td>\n",
       "      <td>0.648586</td>\n",
       "      <td>-1.310927</td>\n",
       "      <td>0.224077</td>\n",
       "      <td>-0.426757</td>\n",
       "    </tr>\n",
       "    <tr>\n",
       "      <th>3</th>\n",
       "      <td>76</td>\n",
       "      <td>1</td>\n",
       "      <td>-0.121763</td>\n",
       "      <td>6</td>\n",
       "      <td>4</td>\n",
       "      <td>2</td>\n",
       "      <td>0</td>\n",
       "      <td>4</td>\n",
       "      <td>0.334544</td>\n",
       "      <td>0.648586</td>\n",
       "      <td>-1.310927</td>\n",
       "      <td>0.224077</td>\n",
       "      <td>-0.426757</td>\n",
       "    </tr>\n",
       "    <tr>\n",
       "      <th>4</th>\n",
       "      <td>76</td>\n",
       "      <td>1</td>\n",
       "      <td>1.526147</td>\n",
       "      <td>6</td>\n",
       "      <td>4</td>\n",
       "      <td>1</td>\n",
       "      <td>0</td>\n",
       "      <td>4</td>\n",
       "      <td>0.334544</td>\n",
       "      <td>0.648586</td>\n",
       "      <td>-1.310927</td>\n",
       "      <td>0.224077</td>\n",
       "      <td>-0.426757</td>\n",
       "    </tr>\n",
       "    <tr>\n",
       "      <th>...</th>\n",
       "      <td>...</td>\n",
       "      <td>...</td>\n",
       "      <td>...</td>\n",
       "      <td>...</td>\n",
       "      <td>...</td>\n",
       "      <td>...</td>\n",
       "      <td>...</td>\n",
       "      <td>...</td>\n",
       "      <td>...</td>\n",
       "      <td>...</td>\n",
       "      <td>...</td>\n",
       "      <td>...</td>\n",
       "      <td>...</td>\n",
       "    </tr>\n",
       "    <tr>\n",
       "      <th>10386</th>\n",
       "      <td>1</td>\n",
       "      <td>0</td>\n",
       "      <td>0.808867</td>\n",
       "      <td>7</td>\n",
       "      <td>4</td>\n",
       "      <td>2</td>\n",
       "      <td>1</td>\n",
       "      <td>3</td>\n",
       "      <td>1.185986</td>\n",
       "      <td>-1.129889</td>\n",
       "      <td>1.009875</td>\n",
       "      <td>1.005063</td>\n",
       "      <td>-1.174702</td>\n",
       "    </tr>\n",
       "    <tr>\n",
       "      <th>10387</th>\n",
       "      <td>1</td>\n",
       "      <td>0</td>\n",
       "      <td>-0.156063</td>\n",
       "      <td>7</td>\n",
       "      <td>4</td>\n",
       "      <td>2</td>\n",
       "      <td>1</td>\n",
       "      <td>3</td>\n",
       "      <td>1.185986</td>\n",
       "      <td>-1.129889</td>\n",
       "      <td>1.009875</td>\n",
       "      <td>1.005063</td>\n",
       "      <td>-1.174702</td>\n",
       "    </tr>\n",
       "    <tr>\n",
       "      <th>10388</th>\n",
       "      <td>1</td>\n",
       "      <td>0</td>\n",
       "      <td>0.370820</td>\n",
       "      <td>2</td>\n",
       "      <td>15</td>\n",
       "      <td>1</td>\n",
       "      <td>1</td>\n",
       "      <td>3</td>\n",
       "      <td>1.185986</td>\n",
       "      <td>-1.129889</td>\n",
       "      <td>1.009875</td>\n",
       "      <td>1.005063</td>\n",
       "      <td>-1.174702</td>\n",
       "    </tr>\n",
       "    <tr>\n",
       "      <th>10389</th>\n",
       "      <td>1</td>\n",
       "      <td>0</td>\n",
       "      <td>-0.396297</td>\n",
       "      <td>5</td>\n",
       "      <td>4</td>\n",
       "      <td>1</td>\n",
       "      <td>1</td>\n",
       "      <td>3</td>\n",
       "      <td>1.185986</td>\n",
       "      <td>-1.129889</td>\n",
       "      <td>1.009875</td>\n",
       "      <td>1.005063</td>\n",
       "      <td>-1.174702</td>\n",
       "    </tr>\n",
       "    <tr>\n",
       "      <th>10390</th>\n",
       "      <td>1</td>\n",
       "      <td>0</td>\n",
       "      <td>0.478970</td>\n",
       "      <td>5</td>\n",
       "      <td>1</td>\n",
       "      <td>2</td>\n",
       "      <td>1</td>\n",
       "      <td>3</td>\n",
       "      <td>1.185986</td>\n",
       "      <td>-1.129889</td>\n",
       "      <td>1.009875</td>\n",
       "      <td>1.005063</td>\n",
       "      <td>-1.174702</td>\n",
       "    </tr>\n",
       "  </tbody>\n",
       "</table>\n",
       "<p>10391 rows × 13 columns</p>\n",
       "</div>"
      ],
      "text/plain": [
       "       schoolid  intervention  achievement_score  success_expect  ethnicity  \\\n",
       "0            76             1           0.277359               6          4   \n",
       "1            76             1          -0.449646               4         12   \n",
       "2            76             1           0.769703               6          4   \n",
       "3            76             1          -0.121763               6          4   \n",
       "4            76             1           1.526147               6          4   \n",
       "...         ...           ...                ...             ...        ...   \n",
       "10386         1             0           0.808867               7          4   \n",
       "10387         1             0          -0.156063               7          4   \n",
       "10388         1             0           0.370820               2         15   \n",
       "10389         1             0          -0.396297               5          4   \n",
       "10390         1             0           0.478970               5          1   \n",
       "\n",
       "       gender  frst_in_family  school_urbanicity  school_mindset  \\\n",
       "0           2               1                  4        0.334544   \n",
       "1           2               1                  4        0.334544   \n",
       "2           2               0                  4        0.334544   \n",
       "3           2               0                  4        0.334544   \n",
       "4           1               0                  4        0.334544   \n",
       "...       ...             ...                ...             ...   \n",
       "10386       2               1                  3        1.185986   \n",
       "10387       2               1                  3        1.185986   \n",
       "10388       1               1                  3        1.185986   \n",
       "10389       1               1                  3        1.185986   \n",
       "10390       2               1                  3        1.185986   \n",
       "\n",
       "       school_achievement  school_ethnic_minority  school_poverty  school_size  \n",
       "0                0.648586               -1.310927        0.224077    -0.426757  \n",
       "1                0.648586               -1.310927        0.224077    -0.426757  \n",
       "2                0.648586               -1.310927        0.224077    -0.426757  \n",
       "3                0.648586               -1.310927        0.224077    -0.426757  \n",
       "4                0.648586               -1.310927        0.224077    -0.426757  \n",
       "...                   ...                     ...             ...          ...  \n",
       "10386           -1.129889                1.009875        1.005063    -1.174702  \n",
       "10387           -1.129889                1.009875        1.005063    -1.174702  \n",
       "10388           -1.129889                1.009875        1.005063    -1.174702  \n",
       "10389           -1.129889                1.009875        1.005063    -1.174702  \n",
       "10390           -1.129889                1.009875        1.005063    -1.174702  \n",
       "\n",
       "[10391 rows x 13 columns]"
      ]
     },
     "execution_count": 2,
     "metadata": {},
     "output_type": "execute_result"
    }
   ],
   "source": [
    "data = pd.read_csv(\"learning_mindset.csv\")\n",
    "data"
   ]
  },
  {
   "cell_type": "code",
   "execution_count": 3,
   "id": "ff08719f",
   "metadata": {},
   "outputs": [],
   "source": [
    "# data.query(\"intervention==1\")[\"achievement_score\"].mean() - med.query(\"intervention==0\")[\"achievement_score\"].mean()"
   ]
  },
  {
   "cell_type": "code",
   "execution_count": 4,
   "id": "3bc2bde4",
   "metadata": {},
   "outputs": [],
   "source": [
    "T = 'intervention'\n",
    "Y = 'achievement_score'\n",
    "X = data.columns.drop(['schoolid', T, Y])"
   ]
  },
  {
   "cell_type": "code",
   "execution_count": 5,
   "id": "c9f18836",
   "metadata": {},
   "outputs": [],
   "source": [
    "ps_model = LogisticRegression(C=1e6).fit(data[X], data[T])"
   ]
  },
  {
   "cell_type": "code",
   "execution_count": 6,
   "id": "3963223c",
   "metadata": {},
   "outputs": [],
   "source": [
    "data_ps = data.assign(propensity_score=ps_model.predict_proba(data[X])[:, 1])"
   ]
  },
  {
   "cell_type": "code",
   "execution_count": 7,
   "id": "00bf55d8",
   "metadata": {},
   "outputs": [
    {
     "data": {
      "text/html": [
       "<div>\n",
       "<style scoped>\n",
       "    .dataframe tbody tr th:only-of-type {\n",
       "        vertical-align: middle;\n",
       "    }\n",
       "\n",
       "    .dataframe tbody tr th {\n",
       "        vertical-align: top;\n",
       "    }\n",
       "\n",
       "    .dataframe thead th {\n",
       "        text-align: right;\n",
       "    }\n",
       "</style>\n",
       "<table border=\"1\" class=\"dataframe\">\n",
       "  <thead>\n",
       "    <tr style=\"text-align: right;\">\n",
       "      <th></th>\n",
       "      <th>schoolid</th>\n",
       "      <th>intervention</th>\n",
       "      <th>achievement_score</th>\n",
       "      <th>success_expect</th>\n",
       "      <th>ethnicity</th>\n",
       "      <th>gender</th>\n",
       "      <th>frst_in_family</th>\n",
       "      <th>school_urbanicity</th>\n",
       "      <th>school_mindset</th>\n",
       "      <th>school_achievement</th>\n",
       "      <th>school_ethnic_minority</th>\n",
       "      <th>school_poverty</th>\n",
       "      <th>school_size</th>\n",
       "      <th>propensity_score</th>\n",
       "    </tr>\n",
       "  </thead>\n",
       "  <tbody>\n",
       "    <tr>\n",
       "      <th>0</th>\n",
       "      <td>76</td>\n",
       "      <td>1</td>\n",
       "      <td>0.277359</td>\n",
       "      <td>6</td>\n",
       "      <td>4</td>\n",
       "      <td>2</td>\n",
       "      <td>1</td>\n",
       "      <td>4</td>\n",
       "      <td>0.334544</td>\n",
       "      <td>0.648586</td>\n",
       "      <td>-1.310927</td>\n",
       "      <td>0.224077</td>\n",
       "      <td>-0.426757</td>\n",
       "      <td>0.309141</td>\n",
       "    </tr>\n",
       "    <tr>\n",
       "      <th>1</th>\n",
       "      <td>76</td>\n",
       "      <td>1</td>\n",
       "      <td>-0.449646</td>\n",
       "      <td>4</td>\n",
       "      <td>12</td>\n",
       "      <td>2</td>\n",
       "      <td>1</td>\n",
       "      <td>4</td>\n",
       "      <td>0.334544</td>\n",
       "      <td>0.648586</td>\n",
       "      <td>-1.310927</td>\n",
       "      <td>0.224077</td>\n",
       "      <td>-0.426757</td>\n",
       "      <td>0.263645</td>\n",
       "    </tr>\n",
       "    <tr>\n",
       "      <th>2</th>\n",
       "      <td>76</td>\n",
       "      <td>1</td>\n",
       "      <td>0.769703</td>\n",
       "      <td>6</td>\n",
       "      <td>4</td>\n",
       "      <td>2</td>\n",
       "      <td>0</td>\n",
       "      <td>4</td>\n",
       "      <td>0.334544</td>\n",
       "      <td>0.648586</td>\n",
       "      <td>-1.310927</td>\n",
       "      <td>0.224077</td>\n",
       "      <td>-0.426757</td>\n",
       "      <td>0.339055</td>\n",
       "    </tr>\n",
       "    <tr>\n",
       "      <th>3</th>\n",
       "      <td>76</td>\n",
       "      <td>1</td>\n",
       "      <td>-0.121763</td>\n",
       "      <td>6</td>\n",
       "      <td>4</td>\n",
       "      <td>2</td>\n",
       "      <td>0</td>\n",
       "      <td>4</td>\n",
       "      <td>0.334544</td>\n",
       "      <td>0.648586</td>\n",
       "      <td>-1.310927</td>\n",
       "      <td>0.224077</td>\n",
       "      <td>-0.426757</td>\n",
       "      <td>0.339055</td>\n",
       "    </tr>\n",
       "    <tr>\n",
       "      <th>4</th>\n",
       "      <td>76</td>\n",
       "      <td>1</td>\n",
       "      <td>1.526147</td>\n",
       "      <td>6</td>\n",
       "      <td>4</td>\n",
       "      <td>1</td>\n",
       "      <td>0</td>\n",
       "      <td>4</td>\n",
       "      <td>0.334544</td>\n",
       "      <td>0.648586</td>\n",
       "      <td>-1.310927</td>\n",
       "      <td>0.224077</td>\n",
       "      <td>-0.426757</td>\n",
       "      <td>0.361268</td>\n",
       "    </tr>\n",
       "    <tr>\n",
       "      <th>...</th>\n",
       "      <td>...</td>\n",
       "      <td>...</td>\n",
       "      <td>...</td>\n",
       "      <td>...</td>\n",
       "      <td>...</td>\n",
       "      <td>...</td>\n",
       "      <td>...</td>\n",
       "      <td>...</td>\n",
       "      <td>...</td>\n",
       "      <td>...</td>\n",
       "      <td>...</td>\n",
       "      <td>...</td>\n",
       "      <td>...</td>\n",
       "      <td>...</td>\n",
       "    </tr>\n",
       "    <tr>\n",
       "      <th>10386</th>\n",
       "      <td>1</td>\n",
       "      <td>0</td>\n",
       "      <td>0.808867</td>\n",
       "      <td>7</td>\n",
       "      <td>4</td>\n",
       "      <td>2</td>\n",
       "      <td>1</td>\n",
       "      <td>3</td>\n",
       "      <td>1.185986</td>\n",
       "      <td>-1.129889</td>\n",
       "      <td>1.009875</td>\n",
       "      <td>1.005063</td>\n",
       "      <td>-1.174702</td>\n",
       "      <td>0.323350</td>\n",
       "    </tr>\n",
       "    <tr>\n",
       "      <th>10387</th>\n",
       "      <td>1</td>\n",
       "      <td>0</td>\n",
       "      <td>-0.156063</td>\n",
       "      <td>7</td>\n",
       "      <td>4</td>\n",
       "      <td>2</td>\n",
       "      <td>1</td>\n",
       "      <td>3</td>\n",
       "      <td>1.185986</td>\n",
       "      <td>-1.129889</td>\n",
       "      <td>1.009875</td>\n",
       "      <td>1.005063</td>\n",
       "      <td>-1.174702</td>\n",
       "      <td>0.323350</td>\n",
       "    </tr>\n",
       "    <tr>\n",
       "      <th>10388</th>\n",
       "      <td>1</td>\n",
       "      <td>0</td>\n",
       "      <td>0.370820</td>\n",
       "      <td>2</td>\n",
       "      <td>15</td>\n",
       "      <td>1</td>\n",
       "      <td>1</td>\n",
       "      <td>3</td>\n",
       "      <td>1.185986</td>\n",
       "      <td>-1.129889</td>\n",
       "      <td>1.009875</td>\n",
       "      <td>1.005063</td>\n",
       "      <td>-1.174702</td>\n",
       "      <td>0.235580</td>\n",
       "    </tr>\n",
       "    <tr>\n",
       "      <th>10389</th>\n",
       "      <td>1</td>\n",
       "      <td>0</td>\n",
       "      <td>-0.396297</td>\n",
       "      <td>5</td>\n",
       "      <td>4</td>\n",
       "      <td>1</td>\n",
       "      <td>1</td>\n",
       "      <td>3</td>\n",
       "      <td>1.185986</td>\n",
       "      <td>-1.129889</td>\n",
       "      <td>1.009875</td>\n",
       "      <td>1.005063</td>\n",
       "      <td>-1.174702</td>\n",
       "      <td>0.300490</td>\n",
       "    </tr>\n",
       "    <tr>\n",
       "      <th>10390</th>\n",
       "      <td>1</td>\n",
       "      <td>0</td>\n",
       "      <td>0.478970</td>\n",
       "      <td>5</td>\n",
       "      <td>1</td>\n",
       "      <td>2</td>\n",
       "      <td>1</td>\n",
       "      <td>3</td>\n",
       "      <td>1.185986</td>\n",
       "      <td>-1.129889</td>\n",
       "      <td>1.009875</td>\n",
       "      <td>1.005063</td>\n",
       "      <td>-1.174702</td>\n",
       "      <td>0.281797</td>\n",
       "    </tr>\n",
       "  </tbody>\n",
       "</table>\n",
       "<p>10391 rows × 14 columns</p>\n",
       "</div>"
      ],
      "text/plain": [
       "       schoolid  intervention  achievement_score  success_expect  ethnicity  \\\n",
       "0            76             1           0.277359               6          4   \n",
       "1            76             1          -0.449646               4         12   \n",
       "2            76             1           0.769703               6          4   \n",
       "3            76             1          -0.121763               6          4   \n",
       "4            76             1           1.526147               6          4   \n",
       "...         ...           ...                ...             ...        ...   \n",
       "10386         1             0           0.808867               7          4   \n",
       "10387         1             0          -0.156063               7          4   \n",
       "10388         1             0           0.370820               2         15   \n",
       "10389         1             0          -0.396297               5          4   \n",
       "10390         1             0           0.478970               5          1   \n",
       "\n",
       "       gender  frst_in_family  school_urbanicity  school_mindset  \\\n",
       "0           2               1                  4        0.334544   \n",
       "1           2               1                  4        0.334544   \n",
       "2           2               0                  4        0.334544   \n",
       "3           2               0                  4        0.334544   \n",
       "4           1               0                  4        0.334544   \n",
       "...       ...             ...                ...             ...   \n",
       "10386       2               1                  3        1.185986   \n",
       "10387       2               1                  3        1.185986   \n",
       "10388       1               1                  3        1.185986   \n",
       "10389       1               1                  3        1.185986   \n",
       "10390       2               1                  3        1.185986   \n",
       "\n",
       "       school_achievement  school_ethnic_minority  school_poverty  \\\n",
       "0                0.648586               -1.310927        0.224077   \n",
       "1                0.648586               -1.310927        0.224077   \n",
       "2                0.648586               -1.310927        0.224077   \n",
       "3                0.648586               -1.310927        0.224077   \n",
       "4                0.648586               -1.310927        0.224077   \n",
       "...                   ...                     ...             ...   \n",
       "10386           -1.129889                1.009875        1.005063   \n",
       "10387           -1.129889                1.009875        1.005063   \n",
       "10388           -1.129889                1.009875        1.005063   \n",
       "10389           -1.129889                1.009875        1.005063   \n",
       "10390           -1.129889                1.009875        1.005063   \n",
       "\n",
       "       school_size  propensity_score  \n",
       "0        -0.426757          0.309141  \n",
       "1        -0.426757          0.263645  \n",
       "2        -0.426757          0.339055  \n",
       "3        -0.426757          0.339055  \n",
       "4        -0.426757          0.361268  \n",
       "...            ...               ...  \n",
       "10386    -1.174702          0.323350  \n",
       "10387    -1.174702          0.323350  \n",
       "10388    -1.174702          0.235580  \n",
       "10389    -1.174702          0.300490  \n",
       "10390    -1.174702          0.281797  \n",
       "\n",
       "[10391 rows x 14 columns]"
      ]
     },
     "execution_count": 7,
     "metadata": {},
     "output_type": "execute_result"
    }
   ],
   "source": [
    "data_ps"
   ]
  },
  {
   "cell_type": "code",
   "execution_count": 8,
   "id": "4a18f5d1",
   "metadata": {},
   "outputs": [
    {
     "name": "stderr",
     "output_type": "stream",
     "text": [
      "/Users/hitkul/anaconda3/lib/python3.9/site-packages/seaborn/distributions.py:2619: FutureWarning: `distplot` is a deprecated function and will be removed in a future version. Please adapt your code to use either `displot` (a figure-level function with similar flexibility) or `histplot` (an axes-level function for histograms).\n",
      "  warnings.warn(msg, FutureWarning)\n",
      "/Users/hitkul/anaconda3/lib/python3.9/site-packages/seaborn/distributions.py:2619: FutureWarning: `distplot` is a deprecated function and will be removed in a future version. Please adapt your code to use either `displot` (a figure-level function with similar flexibility) or `histplot` (an axes-level function for histograms).\n",
      "  warnings.warn(msg, FutureWarning)\n"
     ]
    },
    {
     "data": {
      "image/png": "[encoded data removed]",
      "text/plain": [
       "<Figure size 432x288 with 1 Axes>"
      ]
     },
     "metadata": {
      "needs_background": "light"
     },
     "output_type": "display_data"
    }
   ],
   "source": [
    "sns.distplot(data_ps.query(\"intervention==0\")[\"propensity_score\"], kde=False, label=\"Non Treated\")\n",
    "sns.distplot(data_ps.query(\"intervention==1\")[\"propensity_score\"], kde=False, label=\"Treated\")\n",
    "plt.title(\"Positivity Check\")\n",
    "plt.legend();"
   ]
  },
  {
   "cell_type": "markdown",
   "id": "22c44d4f",
   "metadata": {},
   "source": [
    "notice the distribution is very different from what you would have for a good clasification model"
   ]
  },
  {
   "cell_type": "code",
   "execution_count": 9,
   "id": "22347f78",
   "metadata": {},
   "outputs": [],
   "source": [
    "ps = data_ps['propensity_score'].values"
   ]
  },
  {
   "cell_type": "code",
   "execution_count": 10,
   "id": "67c40353",
   "metadata": {},
   "outputs": [],
   "source": [
    "logit_p = np.log(ps/(1-ps))"
   ]
  },
  {
   "cell_type": "code",
   "execution_count": 11,
   "id": "938ca832",
   "metadata": {},
   "outputs": [],
   "source": [
    "caliper = 0.25 * np.std(logit_p)"
   ]
  },
  {
   "cell_type": "code",
   "execution_count": 12,
   "id": "833d69d8",
   "metadata": {},
   "outputs": [
    {
     "data": {
      "text/plain": [
       "0.04593774264781713"
      ]
     },
     "execution_count": 12,
     "metadata": {},
     "output_type": "execute_result"
    }
   ],
   "source": [
    "caliper"
   ]
  },
  {
   "cell_type": "code",
   "execution_count": 13,
   "id": "c398d84f",
   "metadata": {},
   "outputs": [],
   "source": [
    "control_ids = data_ps[data_ps['intervention']==0].index\n",
    "treatment_ids = data_ps[data_ps['intervention']==1].index"
   ]
  },
  {
   "cell_type": "code",
   "execution_count": 14,
   "id": "195c0ff0",
   "metadata": {},
   "outputs": [],
   "source": [
    "matched_pairs = {}"
   ]
  },
  {
   "cell_type": "code",
   "execution_count": 15,
   "id": "cd8060ea",
   "metadata": {},
   "outputs": [
    {
     "data": {
      "application/vnd.jupyter.widget-view+json": {
       "model_id": "ea104a9394624857ab9b5da66df544bf",
       "version_major": 2,
       "version_minor": 0
      },
      "text/plain": [
       "  0%|          | 0/3384 [00:00<?, ?it/s]"
      ]
     },
     "metadata": {},
     "output_type": "display_data"
    }
   ],
   "source": [
    "for tid in tqdm(treatment_ids):\n",
    "    matched_pairs[tid] = []\n",
    "    for cid in control_ids:\n",
    "        matched_pairs[tid].append((abs(data_ps['propensity_score'].iloc[tid] - data_ps['propensity_score'].iloc[cid]),cid))"
   ]
  },
  {
   "cell_type": "code",
   "execution_count": 16,
   "id": "5ccf82bd",
   "metadata": {},
   "outputs": [
    {
     "data": {
      "application/vnd.jupyter.widget-view+json": {
       "model_id": "250f4b4cce384657bc565df3d4def035",
       "version_major": 2,
       "version_minor": 0
      },
      "text/plain": [
       "  0%|          | 0/3384 [00:00<?, ?it/s]"
      ]
     },
     "metadata": {},
     "output_type": "display_data"
    }
   ],
   "source": [
    "for tid in tqdm(treatment_ids):\n",
    "    matched_pairs[tid] = [i for i in matched_pairs[tid] if i[0]<caliper]"
   ]
  },
  {
   "cell_type": "code",
   "execution_count": 17,
   "id": "f0db2690",
   "metadata": {},
   "outputs": [],
   "source": [
    "matched_pairs_final = {}\n",
    "for k,v in matched_pairs.items():\n",
    "    matched_pairs_final[k] = min(v)"
   ]
  },
  {
   "cell_type": "code",
   "execution_count": 18,
   "id": "3fae5b47",
   "metadata": {},
   "outputs": [],
   "source": [
    "SMD = {col:{'t_values':[],'c_values':[],'SMD':None} for col in X}"
   ]
  },
  {
   "cell_type": "code",
   "execution_count": 19,
   "id": "24b12ac7",
   "metadata": {},
   "outputs": [],
   "source": [
    "for k,v in matched_pairs_final.items():\n",
    "    for col in X:\n",
    "        SMD[col]['t_values'].append(data_ps[col].iloc[k])\n",
    "        SMD[col]['c_values'].append(data_ps[col].iloc[v[1]])"
   ]
  },
  {
   "cell_type": "code",
   "execution_count": 20,
   "id": "eb57d0d0",
   "metadata": {},
   "outputs": [],
   "source": [
    "for k,v in SMD.items():\n",
    "    num = np.mean(v['t_values'])-np.mean(v['c_values'])\n",
    "    dom = ((np.std(v['t_values'])**2) + (np.std(v['c_values'])**2))/2\n",
    "    v['SMD'] = num/np.sqrt(dom)"
   ]
  },
  {
   "cell_type": "code",
   "execution_count": 21,
   "id": "a13d8c25",
   "metadata": {},
   "outputs": [
    {
     "name": "stdout",
     "output_type": "stream",
     "text": [
      "success_expect -0.004972157525117839\n",
      "ethnicity 0.06875921774937616\n",
      "gender -0.005326962675615038\n",
      "frst_in_family -0.016311798085651086\n",
      "school_urbanicity 0.0070684898896231\n",
      "school_mindset 0.003702529166192529\n",
      "school_achievement -0.013579490024597553\n",
      "school_ethnic_minority 0.0027734427072040086\n",
      "school_poverty 0.01009831044334629\n",
      "school_size -0.003060786565531969\n"
     ]
    }
   ],
   "source": [
    "for k,v in SMD.items():\n",
    "    print(k, v['SMD'])"
   ]
  },
  {
   "cell_type": "markdown",
   "id": "3c326905",
   "metadata": {},
   "source": [
    "SMD should be <0.25"
   ]
  },
  {
   "cell_type": "code",
   "execution_count": 22,
   "id": "4fac1c59",
   "metadata": {},
   "outputs": [],
   "source": [
    "ATE = []"
   ]
  },
  {
   "cell_type": "code",
   "execution_count": 23,
   "id": "9351b38d",
   "metadata": {},
   "outputs": [],
   "source": [
    "for k,v in matched_pairs_final.items():\n",
    "    ATE.append(data_ps['achievement_score'].iloc[k] - data_ps['achievement_score'].iloc[v[1]])"
   ]
  },
  {
   "cell_type": "code",
   "execution_count": 24,
   "id": "cfeb4d59",
   "metadata": {},
   "outputs": [
    {
     "data": {
      "text/plain": [
       "0.3713493017126297"
      ]
     },
     "execution_count": 24,
     "metadata": {},
     "output_type": "execute_result"
    }
   ],
   "source": [
    "np.mean(ATE)"
   ]
  },
  {
   "cell_type": "markdown",
   "id": "9d476036",
   "metadata": {},
   "source": [
    "# But this is just scratching the surface"
   ]
  },
  {
   "cell_type": "markdown",
   "id": "82d3687a",
   "metadata": {},
   "source": [
    "<div>\n",
    "<img src=\"https://matheusfacure.github.io/python-causality-handbook/_images/explain.png\" width=\"400\"/>\n",
    "</div>"
   ]
  },
  {
   "cell_type": "markdown",
   "id": "e5e43504",
   "metadata": {},
   "source": [
    "### Models I would suggest you have a look at \n",
    "+ Matching\n",
    "+ Propensity Score\n",
    "+ RDD\n",
    "+ Diff-in-Diff\n",
    "+ Survival Regression"
   ]
  },
  {
   "cell_type": "markdown",
   "id": "9a989e52",
   "metadata": {},
   "source": [
    "### Source"
   ]
  },
  {
   "cell_type": "markdown",
   "id": "b287ef6d",
   "metadata": {},
   "source": [
    "+ https://matheusfacure.github.io/python-causality-handbook/landing-page.html\n",
    "\n",
    "+ https://cdn1.sph.harvard.edu/wp-content/uploads/sites/1268/2021/03/ciwhatif_hernanrobins_30mar21.pdf\n",
    "\n",
    "+ https://www.wiley.com/en-us/Causal+Inference+in+Statistics%3A+A+Primer-p-9781119186847\n",
    "\n",
    "+ https://mixtape.scunning.com/"
   ]
  },
  {
   "cell_type": "code",
   "execution_count": null,
   "id": "852f33d0",
   "metadata": {},
   "outputs": [],
   "source": []
  }
 ],
 "metadata": {
  "kernelspec": {
   "display_name": "Python 3 (ipykernel)",
   "language": "python",
   "name": "python3"
  },
  "language_info": {
   "codemirror_mode": {
    "name": "ipython",
    "version": 3
   },
   "file_extension": ".py",
   "mimetype": "text/x-python",
   "name": "python",
   "nbconvert_exporter": "python",
   "pygments_lexer": "ipython3",
   "version": "3.9.12"
  }
 },
 "nbformat": 4,
 "nbformat_minor": 5
}
